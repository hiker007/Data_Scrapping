{
 "cells": [
  {
   "cell_type": "code",
   "execution_count": 1,
   "metadata": {},
   "outputs": [],
   "source": [
    "import requests\n",
    "import pandas as pd\n",
    "from bs4 import BeautifulSoup\n",
    "from requests.exceptions import HTTPError\n"
   ]
  },
  {
   "cell_type": "code",
   "execution_count": null,
   "metadata": {},
   "outputs": [],
   "source": [
    "def get_offer_links(url):\n",
    "    \n",
    "    is_not_empt_page = True\n",
    "    page_number = 1\n",
    "    while is_not_empt_page: \n",
    "        try:\n",
    "            dwl_page = requests.get(url = 'https://gratka.pl/nieruchomosci/mieszkania/poznan/sprzedaz?page=141')\n",
    "            dwl_page.raise_for_status()\n",
    "        except HTTPError as httperror:\n",
    "            print(f'Nie odnaleziono strony. Blad: {httperror}')\n",
    "        \n",
    "    "
   ]
  },
  {
   "cell_type": "code",
   "execution_count": 22,
   "metadata": {},
   "outputs": [],
   "source": [
    "try:\n",
    "    dwl_page = requests.get(url = 'https://gratka.pl/nieruchomosci/mieszkania/poznan/sprzedaz?page=141')\n",
    "    dwl_page.raise_for_status()\n",
    "except HTTPError as httperror:\n",
    "    print(f'Nie odnaleziono strony. Blad: {httperror}')\n",
    "    \n",
    "    \n",
    " "
   ]
  },
  {
   "cell_type": "code",
   "execution_count": 20,
   "metadata": {},
   "outputs": [],
   "source": [
    "#page downloading\n",
    "url = 'https://gratka.pl/nieruchomosci/mieszkania/poznan/sprzedaz?page=141'\n",
    "dwl_page = requests.get(url = url)\n",
    "dwl_page.raise_for_status()"
   ]
  },
  {
   "cell_type": "code",
   "execution_count": 3,
   "metadata": {},
   "outputs": [],
   "source": [
    "#przygotowanie do brabiania\n",
    "soup = BeautifulSoup(dwl_page.text , 'lxml')\n",
    "body = soup.body"
   ]
  },
  {
   "cell_type": "code",
   "execution_count": 4,
   "metadata": {},
   "outputs": [],
   "source": [
    "div = body.find_all('a', {'class': 'teaser__anchor'})"
   ]
  },
  {
   "cell_type": "code",
   "execution_count": 5,
   "metadata": {},
   "outputs": [],
   "source": [
    "#len(div)\n",
    "#lista ofert (podstron) na stronie \n",
    "links_list = []\n",
    "\n",
    "for i in div: \n",
    "    links_list.append(i.get('href'))"
   ]
  },
  {
   "cell_type": "code",
   "execution_count": 6,
   "metadata": {},
   "outputs": [],
   "source": [
    "offer_page = requests.get(url = links_list[0])\n",
    "soup = BeautifulSoup(offer_page.text , 'lxml')\n",
    "body = soup.body"
   ]
  },
  {
   "cell_type": "code",
   "execution_count": 7,
   "metadata": {},
   "outputs": [],
   "source": [
    "#pobieram pierwsze ze\n",
    "#params loop\n",
    "pars_atrr = body.find('ul', {'class': 'parameters__rolled'})\n",
    "#getting list of params \n",
    "params_list = [i.get_text() for i in pars_atrr.find_all('span')]\n",
    "params_list.remove('tel.')\n",
    "#getting list of values\n",
    "values_list = [i.get_text() for i in pars_atrr.find_all('b', class_ = 'parameters__value')]"
   ]
  },
  {
   "cell_type": "code",
   "execution_count": 8,
   "metadata": {},
   "outputs": [],
   "source": [
    "#stworzyłem słownik do przechowywania parametów pobranych ze strony \n",
    "dict_object = {key : value for key, value in zip(params_list, values_list)}"
   ]
  },
  {
   "cell_type": "code",
   "execution_count": 9,
   "metadata": {},
   "outputs": [],
   "source": [
    "#pobieram cene mieszkania\n",
    "dict_object['price'] = body.find('span', class_ = 'priceInfo__value').get_text()\n",
    "#pobieram tytuł ogłoszenia\n",
    "dict_object['title'] = body.find('h1', class_ = 'sticker__title').get_text()\n",
    "dict_object['link'] = links_list[0]"
   ]
  },
  {
   "cell_type": "code",
   "execution_count": 11,
   "metadata": {},
   "outputs": [
    {
     "data": {
      "text/plain": [
       "{'Liczba pięter w budynku': '13',\n",
       " 'Liczba pokoi': '3',\n",
       " 'Lokalizacja': '\\nPoznań,                                         Winogrady,                                         wielkopolskie ',\n",
       " 'Nazwa inwestycji': '\\nNowych Kosmonautów\\n',\n",
       " 'Numer referencyjny': 'gratka-B2.0.01',\n",
       " 'Piętro': 'parter',\n",
       " 'Powierzchnia w m2': '68 m2',\n",
       " 'Typ zabudowy': 'blok',\n",
       " 'link': 'https://gratka.pl/nieruchomosci/nowe-mieszkanie-poznan-winogrady-ul-serbska-15/ob/7309195',\n",
       " 'price': '\\n          430 149,00\\n      \\n        zł\\n      \\n',\n",
       " 'title': 'Nowe mieszkanie Poznań Winogrady, ul. Serbska 15'}"
      ]
     },
     "execution_count": 11,
     "metadata": {},
     "output_type": "execute_result"
    }
   ],
   "source": [
    "dict_object"
   ]
  },
  {
   "cell_type": "code",
   "execution_count": 4,
   "metadata": {},
   "outputs": [],
   "source": [
    "#liczba podstron z ofertami\n",
    "start_pg_nr = int(body.find('input', {'class': 'pagination__input'}).get('min'))\n",
    "end_pg_nr = int(body.find('input', {'class': 'pagination__input'}).get('max'))"
   ]
  },
  {
   "cell_type": "code",
   "execution_count": 26,
   "metadata": {},
   "outputs": [],
   "source": [
    "## Dobry materiał o słownikach \n",
    "#https://realpython.com/iterate-through-dictionary-python/77\n",
    "\n",
    "##Materiała o beautifulsoup\n",
    "https://www.dataquest.io/blog/web-scraping-tutorial-python/\n",
    "    \n",
    "##Przetwarzeanie \n",
    "##https://thispointer.com/python-pandas-how-to-create-dataframe-from-dictionary/\n",
    "\n",
    "https://realpython.com/python-requests/\n",
    "\n",
    "https://thispointer.com/python-pandas-how-to-create-dataframe-from-dictionary/"
   ]
  }
 ],
 "metadata": {
  "kernelspec": {
   "display_name": "Python 3",
   "language": "python",
   "name": "python3"
  },
  "language_info": {
   "codemirror_mode": {
    "name": "ipython",
    "version": 3
   },
   "file_extension": ".py",
   "mimetype": "text/x-python",
   "name": "python",
   "nbconvert_exporter": "python",
   "pygments_lexer": "ipython3",
   "version": "3.6.3"
  }
 },
 "nbformat": 4,
 "nbformat_minor": 2
}
