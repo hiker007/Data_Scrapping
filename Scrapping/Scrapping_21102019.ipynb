{
 "cells": [
  {
   "cell_type": "code",
   "execution_count": 1,
   "metadata": {},
   "outputs": [],
   "source": [
    "import requests\n",
    "import pandas as pd\n",
    "from bs4 import BeautifulSoup\n"
   ]
  },
  {
   "cell_type": "code",
   "execution_count": 2,
   "metadata": {},
   "outputs": [],
   "source": [
    "#page downloading\n",
    "url = 'https://gratka.pl/nieruchomosci/mieszkania/poznan/sprzedaz?page=1'\n",
    "dwl_page = requests.get(url = url)"
   ]
  },
  {
   "cell_type": "code",
   "execution_count": 3,
   "metadata": {},
   "outputs": [],
   "source": [
    "#przygotowanie do brabiania\n",
    "soup = BeautifulSoup(dwl_page.text , 'lxml')\n",
    "body = soup.body"
   ]
  },
  {
   "cell_type": "code",
   "execution_count": 4,
   "metadata": {},
   "outputs": [],
   "source": [
    "#liczba podstron z ofertami\n",
    "start_pg_nr = int(body.find('input', {'class': 'pagination__input'}).get('min'))\n",
    "end_pg_nr = int(body.find('input', {'class': 'pagination__input'}).get('max'))"
   ]
  },
  {
   "cell_type": "code",
   "execution_count": 5,
   "metadata": {},
   "outputs": [],
   "source": [
    "\n",
    "div = body.find_all('a', {'class': 'teaser__anchor'})"
   ]
  },
  {
   "cell_type": "code",
   "execution_count": 6,
   "metadata": {},
   "outputs": [],
   "source": [
    "#len(div)\n",
    "#lista ofert (podstron) na stronie \n",
    "links_list = []\n",
    "\n",
    "for i in div: \n",
    "    links_list.append(i.get('href'))"
   ]
  },
  {
   "cell_type": "code",
   "execution_count": 7,
   "metadata": {},
   "outputs": [],
   "source": [
    "offer_page = requests.get(url = links_list[0])\n",
    "soup = BeautifulSoup(offer_page.text , 'lxml')\n",
    "body = soup.body"
   ]
  },
  {
   "cell_type": "code",
   "execution_count": 8,
   "metadata": {},
   "outputs": [],
   "source": [
    "#pobieram pierwsze ze\n",
    "#params loop\n",
    "pars_atrr = body.find('ul', {'class': 'parameters__rolled'})\n",
    "#getting list of params \n",
    "params_list = [i.get_text() for i in pars_atrr.find_all('span')]\n",
    "params_list.remove('tel.')\n",
    "#getting list of values\n",
    "values_list = [i.get_text() for i in pars_atrr.find_all('b', class_ = 'parameters__value')]"
   ]
  },
  {
   "cell_type": "code",
   "execution_count": 54,
   "metadata": {},
   "outputs": [],
   "source": [
    "#stworzyłem słownik do przechowywania parametów pobranych ze strony \n",
    "dict_object = {key : value for key, value in zip(params_list, values_list)}"
   ]
  },
  {
   "cell_type": "code",
   "execution_count": 68,
   "metadata": {},
   "outputs": [],
   "source": [
    "#pobieram cene mieszkania\n",
    "dict_object['price'] = body.find('span', class_ = 'priceInfo__value').get_text()\n",
    "#pobieram tytuł ogłoszenia\n",
    "dict_object['title'] = body.find('h1', class_ = 'sticker__title').get_text()"
   ]
  },
  {
   "cell_type": "code",
   "execution_count": 70,
   "metadata": {},
   "outputs": [],
   "source": [
    "dict_object['link'] = links_list[0]"
   ]
  },
  {
   "cell_type": "code",
   "execution_count": 71,
   "metadata": {},
   "outputs": [
    {
     "data": {
      "text/plain": [
       "{'Lokalizacja': '\\nPoznań,                                         Winogrady,                                         wielkopolskie ',\n",
       " 'Powierzchnia w m2': '68 m2',\n",
       " 'Liczba pokoi': '3',\n",
       " 'Piętro': 'parter',\n",
       " 'Typ zabudowy': 'blok',\n",
       " 'Liczba pięter w budynku': '13',\n",
       " 'Nazwa inwestycji': '\\nNowych Kosmonautów\\n',\n",
       " 'Numer referencyjny': 'gratka-B2.0.01',\n",
       " 'price': '\\n          430 149,00\\n      \\n        zł\\n      \\n',\n",
       " 'title': 'Nowe mieszkanie Poznań Winogrady, ul. Serbska 15',\n",
       " 'link': 'https://gratka.pl/nieruchomosci/nowe-mieszkanie-poznan-winogrady-ul-serbska-15/ob/7309195'}"
      ]
     },
     "execution_count": 71,
     "metadata": {},
     "output_type": "execute_result"
    }
   ],
   "source": [
    "dict_object"
   ]
  },
  {
   "cell_type": "code",
   "execution_count": 26,
   "metadata": {},
   "outputs": [],
   "source": [
    "## Dobry materiał o słownikach \n",
    "#https://realpython.com/iterate-through-dictionary-python/77\n",
    "\n",
    "##Materiała o beautifulsoup\n",
    "https://www.dataquest.io/blog/web-scraping-tutorial-python/"
   ]
  }
 ],
 "metadata": {
  "kernelspec": {
   "display_name": "Python 3",
   "language": "python",
   "name": "python3"
  },
  "language_info": {
   "codemirror_mode": {
    "name": "ipython",
    "version": 3
   },
   "file_extension": ".py",
   "mimetype": "text/x-python",
   "name": "python",
   "nbconvert_exporter": "python",
   "pygments_lexer": "ipython3",
   "version": "3.7.3"
  }
 },
 "nbformat": 4,
 "nbformat_minor": 2
}
