{
 "cells": [
  {
   "cell_type": "code",
   "execution_count": 75,
   "metadata": {},
   "outputs": [],
   "source": [
    "import requests\n",
    "import pandas as pd\n",
    "from bs4 import BeautifulSoup\n"
   ]
  },
  {
   "cell_type": "code",
   "execution_count": 122,
   "metadata": {},
   "outputs": [],
   "source": [
    "#page downloading\n",
    "url = 'https://gratka.pl/nieruchomosci/mieszkania/poznan?page=1'\n",
    "dwl_page = requests.get(url = url)"
   ]
  },
  {
   "cell_type": "code",
   "execution_count": 123,
   "metadata": {},
   "outputs": [],
   "source": [
    "#przygotowanie do brabiania\n",
    "soup = BeautifulSoup(dwl_page.text , 'lxml')\n",
    "body = soup.body"
   ]
  },
  {
   "cell_type": "code",
   "execution_count": 48,
   "metadata": {},
   "outputs": [],
   "source": [
    "#liczba podstron z ofertami\n",
    "start_pg_nr = int(body.find('input', {'class': 'pagination__input'}).get('min'))\n",
    "end_pg_nr = int(body.find('input', {'class': 'pagination__input'}).get('max'))"
   ]
  },
  {
   "cell_type": "code",
   "execution_count": 51,
   "metadata": {},
   "outputs": [],
   "source": [
    "\n",
    "div = body.find_all('a', {'class': 'teaser__anchor'})"
   ]
  },
  {
   "cell_type": "code",
   "execution_count": 57,
   "metadata": {},
   "outputs": [],
   "source": [
    "#len(div)\n",
    "#lista ofert (podstron) na stronie \n",
    "links_list = []\n",
    "\n",
    "for i in div: \n",
    "    links_list.append(i.get('href'))"
   ]
  },
  {
   "cell_type": "code",
   "execution_count": 70,
   "metadata": {},
   "outputs": [],
   "source": [
    "offer_page = requests.get(url = links_list[0])\n",
    "soup = BeautifulSoup(offer_page.text , 'lxml')\n",
    "body = soup.body"
   ]
  },
  {
   "cell_type": "code",
   "execution_count": 73,
   "metadata": {},
   "outputs": [],
   "source": [
    "pars_atrr = body.find('ul', {'class': 'parameters__rolled'})"
   ]
  },
  {
   "cell_type": "code",
   "execution_count": 120,
   "metadata": {},
   "outputs": [],
   "source": [
    "pars_atrr.find_all('li')"
   ]
  },
  {
   "cell_type": "code",
   "execution_count": 121,
   "metadata": {},
   "outputs": [
    {
     "data": {
      "text/plain": [
       "['https://gratka.pl/nieruchomosci/nowe-mieszkanie-poznan-piatkowo-ul-lechicka/ob/6902025',\n",
       " 'https://gratka.pl/nieruchomosci/nowe-mieszkanie-poznan-piatkowo-ul-lechicka/ob/6854587',\n",
       " 'https://gratka.pl/nieruchomosci/nowe-mieszkanie-poznan-piatkowo-ul-lechicka/ob/6862029',\n",
       " 'https://gratka.pl/nieruchomosci/nowe-mieszkanie-poznan-piatkowo-ul-lechicka/ob/6829557',\n",
       " 'https://gratka.pl/nieruchomosci/nowe-mieszkanie-poznan-solacz-ul-drzymaly-26/ob/747372',\n",
       " 'https://gratka.pl/nieruchomosci/nowe-mieszkanie-poznan-jezyce-ul-dunajecka/ob/4356841',\n",
       " 'https://gratka.pl/nieruchomosci/nowe-mieszkanie-poznan-jezyce-ul-dunajecka/ob/4356861',\n",
       " 'https://gratka.pl/nieruchomosci/nowe-mieszkanie-poznan-dolna-wilda-ul-saperska-30/ob/1000360',\n",
       " 'https://gratka.pl/nieruchomosci/nowe-mieszkanie-poznan-piatkowo-ul-lechicka/ob/6855629',\n",
       " 'https://gratka.pl/nieruchomosci/wyjatkowy-wysoki-standard-2-pok-arena-park-kasprowicza-po-generalnym-remoncie-blok-z-cegly/oi/13012601',\n",
       " 'https://gratka.pl/nieruchomosci/najlepsza-kawalerka-wysoki-standard-blok-cegla-inwestycja-mtp-3-minuty-do-tramwaj-wszystko-nowe/oi/12659627',\n",
       " 'https://gratka.pl/nieruchomosci/nowe-mieszkanie-poznan-piatkowo-ul-lechicka/ob/6904331',\n",
       " 'https://gratka.pl/nieruchomosci/nowe-mieszkanie-poznan/ob/10991299',\n",
       " 'https://gratka.pl/nieruchomosci/nowe-mieszkanie-poznan-winiary-ul-piatkowska-trojpole/ob/7583471',\n",
       " 'https://gratka.pl/nieruchomosci/nowe-mieszkanie-poznan-podolany-ul-jasielska-11/ob/841622',\n",
       " 'https://gratka.pl/nieruchomosci/nowe-mieszkanie-poznan-zalasewo-mieszkania-i-apartamenty-ul-kornicka-194/ob/747586',\n",
       " 'https://gratka.pl/nieruchomosci/nowe-mieszkanie-poznan-srodka-ul-chlebowa/ob/4647666',\n",
       " 'https://gratka.pl/nieruchomosci/nowe-mieszkanie-poznan-szczepankowo-ul-bobrownicka/ob/867204',\n",
       " 'https://gratka.pl/nieruchomosci/nowe-mieszkanie-poznan-srodka-ul-chlebowa/ob/4648072',\n",
       " 'https://gratka.pl/nieruchomosci/nowe-mieszkanie-poznan-podolany-ul-jasielska-11/ob/841360',\n",
       " 'https://gratka.pl/nieruchomosci/nowe-mieszkanie-poznan-wilda-ul-28-czerwca-1956-r/ob/11997771',\n",
       " 'https://gratka.pl/nieruchomosci/nowe-mieszkanie-poznan-nowe-miasto-ul-sucha-30-c/ob/10956435',\n",
       " 'https://gratka.pl/nieruchomosci/mieszkanie-poznan-lazarz-ul-grottgera-15-4/ob/3490067',\n",
       " 'https://gratka.pl/nieruchomosci/mieszkanie-poznan-lazarz-ul-chelmonskiego-17/ob/4054811',\n",
       " 'https://gratka.pl/nieruchomosci/nowe-mieszkanie-poznan-nowe-miasto-ul-sucha-30-c/ob/11407927',\n",
       " 'https://gratka.pl/nieruchomosci/mieszkanie-poznan-lazarz-ul-grottgera-15-6/ob/3807417',\n",
       " 'https://gratka.pl/nieruchomosci/mieszkanie-poznan-lazarz-ul-grottgera-15-15/ob/910266',\n",
       " 'https://gratka.pl/nieruchomosci/mieszkanie-poznan-lazarz-ul-chelmonskiego-17/ob/5334941',\n",
       " 'https://gratka.pl/nieruchomosci/mieszkanie-poznan-lazarz-ul-jozefa-chelmonskiego-17/ob/5319101',\n",
       " 'https://gratka.pl/nieruchomosci/nowe-mieszkanie-poznan-nowe-miasto-ul-sucha-30-c/ob/893868',\n",
       " 'https://gratka.pl/nieruchomosci/mieszkanie-poznan/ob/10967183',\n",
       " 'https://gratka.pl/nieruchomosci/nowe-mieszkanie-poznan-kornik-bardzo-wysoki-standard-deweloperski-ul-osiedle-rodzinny-zakatek/ob/557130']"
      ]
     },
     "execution_count": 121,
     "metadata": {},
     "output_type": "execute_result"
    }
   ],
   "source": []
  },
  {
   "cell_type": "code",
   "execution_count": 37,
   "metadata": {},
   "outputs": [],
   "source": [
    "offer_page = requests.get(url = offer)\n",
    "offer_soup = BeautifulSoup(offer_page.text, 'lxml')\n",
    "body_offer = offer_soup.body\n",
    "div_offer = body_offer.find_all('ul', {'class': 'parameters__rolled'})"
   ]
  },
  {
   "cell_type": "code",
   "execution_count": 117,
   "metadata": {},
   "outputs": [
    {
     "data": {
      "text/plain": [
       "<li>\n",
       "<span>Powierzchnia w m2</span>\n",
       "<b class=\"parameters__value\">\n",
       "                              66.86\n",
       "                          </b>\n",
       "</li>"
      ]
     },
     "execution_count": 117,
     "metadata": {},
     "output_type": "execute_result"
    }
   ],
   "source": [
    "#list(div_offer[0].stripped_strings)\n",
    "\n",
    "div_offer[0].find_all('li')[2] # .get_attribute_list('parameters__value')\n"
   ]
  },
  {
   "cell_type": "code",
   "execution_count": null,
   "metadata": {},
   "outputs": [],
   "source": [
    "## https://gratka.pl/nieruchomosci/mieszkania/poznan?page=2\n",
    "\n",
    "###view-source:https://gratka.pl/nieruchomosci/mieszkania/poznan\n",
    "\n",
    "## https://gratka.pl/nieruchomosci/nowe-mieszkanie-poznan-jezyce-ul-dunajecka/ob/4356861"
   ]
  }
 ],
 "metadata": {
  "kernelspec": {
   "display_name": "Python 3",
   "language": "python",
   "name": "python3"
  },
  "language_info": {
   "codemirror_mode": {
    "name": "ipython",
    "version": 3
   },
   "file_extension": ".py",
   "mimetype": "text/x-python",
   "name": "python",
   "nbconvert_exporter": "python",
   "pygments_lexer": "ipython3",
   "version": "3.6.3"
  }
 },
 "nbformat": 4,
 "nbformat_minor": 2
}
